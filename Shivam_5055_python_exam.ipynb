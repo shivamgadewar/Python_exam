{
 "cells": [
  {
   "cell_type": "code",
   "execution_count": 4,
   "id": "dfad58d3-ffc3-4244-8620-c0fd6c529721",
   "metadata": {},
   "outputs": [],
   "source": [
    "# Q1\n",
    "def reverseWords(s: str) -> str:\n",
    "    return ' '.join(s.split()[::-1])\n"
   ]
  },
  {
   "cell_type": "code",
   "execution_count": 5,
   "id": "482994d6-284b-4c49-9fc4-52f7354eaae0",
   "metadata": {},
   "outputs": [
    {
     "data": {
      "text/plain": [
       "'blue is sky the'"
      ]
     },
     "execution_count": 5,
     "metadata": {},
     "output_type": "execute_result"
    }
   ],
   "source": [
    "s=\"the sky is blue\"\n",
    "reverseWords(s)"
   ]
  },
  {
   "cell_type": "code",
   "execution_count": 6,
   "id": "75276157-e58d-423b-beec-d372d04a96c9",
   "metadata": {},
   "outputs": [
    {
     "data": {
      "text/plain": [
       "'world hello'"
      ]
     },
     "execution_count": 6,
     "metadata": {},
     "output_type": "execute_result"
    }
   ],
   "source": [
    "s = \"hello world\"\n",
    "reverseWords(s)"
   ]
  },
  {
   "cell_type": "code",
   "execution_count": null,
   "id": "788d7bd9-7ad0-4eb4-bbb7-a584b0354f9a",
   "metadata": {},
   "outputs": [],
   "source": []
  },
  {
   "cell_type": "code",
   "execution_count": null,
   "id": "ca691ec0-39c3-4d91-8ba8-f136a9f3a573",
   "metadata": {},
   "outputs": [],
   "source": []
  },
  {
   "cell_type": "code",
   "execution_count": 50,
   "id": "e91cdb80-79b0-4136-8bd6-6b0edf47dde0",
   "metadata": {},
   "outputs": [],
   "source": [
    "def reverse(s):\n",
    "    m=s.split()\n",
    "    print(m[::-1])\n",
    "    "
   ]
  },
  {
   "cell_type": "code",
   "execution_count": 51,
   "id": "f229cb62-9fa5-491e-8b3f-930e71cbe08e",
   "metadata": {},
   "outputs": [
    {
     "name": "stdout",
     "output_type": "stream",
     "text": [
      "['blue', 'is', 'sky', 'the']\n"
     ]
    }
   ],
   "source": [
    "s=\"the sky is blue\"\n",
    "reverse(s)"
   ]
  },
  {
   "cell_type": "code",
   "execution_count": null,
   "id": "fd2f010d-75de-45c2-8cfd-b93f168e4d17",
   "metadata": {},
   "outputs": [],
   "source": []
  },
  {
   "cell_type": "code",
   "execution_count": 52,
   "id": "a3d01a49-68d4-4625-85d8-dd4f78c4c7b4",
   "metadata": {},
   "outputs": [],
   "source": [
    "# Q2.\n",
    "\n",
    "def is_prime(num):\n",
    "    if num < 2:\n",
    "        return False\n",
    "    for i in range(2, int(num ** 0.5) + 1):\n",
    "        if num % i == 0:\n",
    "            return False\n",
    "    return True\n",
    "\n",
    "def countprimes(n):\n",
    "    count = 0\n",
    "    prime_num=[]\n",
    "    for num in range(2, n):\n",
    "        if is_prime(num):\n",
    "            count += 1\n",
    "            prime_num.append(num)\n",
    "    print(prime_num)\n",
    "    return print(\"count of primes:\",count)\n"
   ]
  },
  {
   "cell_type": "code",
   "execution_count": 41,
   "id": "4b318ac0-e455-43ee-9398-a4ef6b5320f9",
   "metadata": {},
   "outputs": [
    {
     "name": "stdin",
     "output_type": "stream",
     "text": [
      "enter the number  for checking prime 10\n"
     ]
    },
    {
     "name": "stdout",
     "output_type": "stream",
     "text": [
      "[2, 3, 5, 7]\n",
      "count of primes: 4\n"
     ]
    }
   ],
   "source": [
    "x=int(input(\"enter the number  for checking prime\"))\n",
    "countprimes(x)\n"
   ]
  },
  {
   "cell_type": "code",
   "execution_count": 42,
   "id": "8cc12ab4-4824-4a0d-b1bb-700479afd0f9",
   "metadata": {},
   "outputs": [
    {
     "name": "stdin",
     "output_type": "stream",
     "text": [
      "enter the number  for checking prime 100\n"
     ]
    },
    {
     "name": "stdout",
     "output_type": "stream",
     "text": [
      "[2, 3, 5, 7, 11, 13, 17, 19, 23, 29, 31, 37, 41, 43, 47, 53, 59, 61, 67, 71, 73, 79, 83, 89, 97]\n",
      "count of primes: 25\n"
     ]
    }
   ],
   "source": [
    "x=int(input(\"enter the number  for checking prime\"))\n",
    "countprimes(x)"
   ]
  },
  {
   "cell_type": "code",
   "execution_count": null,
   "id": "b523f4ff-6f94-4b64-9721-f7af9ee2e604",
   "metadata": {},
   "outputs": [],
   "source": []
  },
  {
   "cell_type": "code",
   "execution_count": 43,
   "id": "43b407bd-8511-4d1d-802d-b9679e348bc1",
   "metadata": {},
   "outputs": [],
   "source": [
    "#Q3.\n",
    "def intersection(nums1, nums2):\n",
    "    return list(set(nums1) & set(nums2))\n",
    " \n"
   ]
  },
  {
   "cell_type": "code",
   "execution_count": 45,
   "id": "f3926681-0b79-4822-93c4-260551d93ee1",
   "metadata": {},
   "outputs": [
    {
     "name": "stdout",
     "output_type": "stream",
     "text": [
      "[2]\n"
     ]
    }
   ],
   "source": [
    "print(intersection([1, 2, 2, 1], [2, 2])) \n"
   ]
  },
  {
   "cell_type": "code",
   "execution_count": 47,
   "id": "278d364b-219a-4227-959e-fcec933b4ebe",
   "metadata": {},
   "outputs": [
    {
     "name": "stdout",
     "output_type": "stream",
     "text": [
      "[9, 4]\n"
     ]
    }
   ],
   "source": [
    "print(intersection([4, 9, 5], [9, 4, 9, 8, 4]))  "
   ]
  },
  {
   "cell_type": "code",
   "execution_count": 49,
   "id": "ccb8c591-4329-4859-89d5-5c8ac78a7d28",
   "metadata": {},
   "outputs": [
    {
     "name": "stdout",
     "output_type": "stream",
     "text": [
      "[]\n"
     ]
    }
   ],
   "source": [
    "print(intersection([1, 3, 5, 7], [2, 4, 6, 8])) "
   ]
  },
  {
   "cell_type": "code",
   "execution_count": null,
   "id": "55ae5f2c-7b2b-4eb1-a01b-b5b94744ad79",
   "metadata": {},
   "outputs": [],
   "source": []
  }
 ],
 "metadata": {
  "kernelspec": {
   "display_name": "Python 3 (ipykernel)",
   "language": "python",
   "name": "python3"
  },
  "language_info": {
   "codemirror_mode": {
    "name": "ipython",
    "version": 3
   },
   "file_extension": ".py",
   "mimetype": "text/x-python",
   "name": "python",
   "nbconvert_exporter": "python",
   "pygments_lexer": "ipython3",
   "version": "3.12.5"
  }
 },
 "nbformat": 4,
 "nbformat_minor": 5
}
